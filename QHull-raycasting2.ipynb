{
 "cells": [
  {
   "cell_type": "markdown",
   "metadata": {},
   "source": [
    "Projecting from sphere to cylinder back to sphere"
   ]
  },
  {
   "cell_type": "code",
   "execution_count": null,
   "metadata": {},
   "outputs": [],
   "source": [
    "%matplotlib notebook\n",
    "from mpl_toolkits.mplot3d import Axes3D\n",
    "import matplotlib.pyplot as plt\n",
    "import numpy as np\n",
    "from scipy.spatial import ConvexHull\n",
    "import crawfordCoilLib as cc"
   ]
  },
  {
   "cell_type": "code",
   "execution_count": null,
   "metadata": {},
   "outputs": [],
   "source": [
    "X, Y, Z, A = np.genfromtxt(\"cylinder-surface.txt\", comments='%', unpack=True)\n",
    "mesh = np.array((X.T,Y.T,Z.T)).T\n",
    "cylHull = ConvexHull(mesh)"
   ]
  },
  {
   "cell_type": "code",
   "execution_count": null,
   "metadata": {},
   "outputs": [],
   "source": [
    "# isox = []; isoy = []; isoz = [];\n",
    "iso = []\n",
    "for t in np.linspace(0,2*np.pi,200):\n",
    "    iso.append(np.sin(.75*t)*np.cos(t*3))\n",
    "    iso.append(np.sin(.75*t)*np.sin(t*3))\n",
    "    iso.append(np.cos(.75*t))\n",
    "vecpoint = np.reshape(iso,(-1,3))"
   ]
  },
  {
   "cell_type": "code",
   "execution_count": null,
   "metadata": {},
   "outputs": [],
   "source": [
    "allpoints = cc.manyHit(vecpoint,cylHull)\n",
    "sphereHull = cc.sphereHull(0.2) # rad = 0.2 (smaller than cyl radius)\n",
    "allpoints2 = cc.manyHit(vecpoint,sphereHull) # From sample points onto sphere\n",
    "allpoints3 = cc.manyHit(allpoints, sphereHull) # From projected cylinder points back to sphere\n",
    "#allpoints4 = manyhit(mesh[::5], sphereHull)     # Entire cylinder to sphere"
   ]
  },
  {
   "cell_type": "code",
   "execution_count": null,
   "metadata": {
    "scrolled": true
   },
   "outputs": [],
   "source": [
    "fig = plt.figure()\n",
    "ax = fig.add_subplot(111, projection='3d')\n",
    "#ax.scatter(X,Y,Z,c=A, s=1)\n",
    "#ax.scatter(allpoints[:,0],allpoints[:,1],allpoints[:,2],c='r')\n",
    "ax.scatter(allpoints2[:,0],allpoints2[:,1],allpoints2[:,2],c='b')\n",
    "ax.scatter(allpoints3[:,0],allpoints3[:,1],allpoints3[:,2],c='g')\n",
    "#ax.scatter(allpoints4[:,0],allpoints4[:,1],allpoints4[:,2])"
   ]
  },
  {
   "cell_type": "code",
   "execution_count": null,
   "metadata": {},
   "outputs": [],
   "source": []
  }
 ],
 "metadata": {
  "kernelspec": {
   "display_name": "Python 3",
   "language": "python",
   "name": "python3"
  },
  "language_info": {
   "codemirror_mode": {
    "name": "ipython",
    "version": 3
   },
   "file_extension": ".py",
   "mimetype": "text/x-python",
   "name": "python",
   "nbconvert_exporter": "python",
   "pygments_lexer": "ipython3",
   "version": "3.5.2"
  },
  "toc": {
   "nav_menu": {},
   "number_sections": true,
   "sideBar": true,
   "skip_h1_title": false,
   "toc_cell": false,
   "toc_position": {},
   "toc_section_display": "block",
   "toc_window_display": true
  }
 },
 "nbformat": 4,
 "nbformat_minor": 2
}
